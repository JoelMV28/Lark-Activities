{
 "cells": [
  {
   "cell_type": "markdown",
   "metadata": {},
   "source": [
    "## 1. Complete the following code to find the area of an equilateral triangle. Output should be as displayed"
   ]
  },
  {
   "cell_type": "code",
   "execution_count": 4,
   "metadata": {},
   "outputs": [
    {
     "name": "stdout",
     "output_type": "stream",
     "text": [
      "Enter the side of the equilateral triangle: 5\n",
      "10.825\n"
     ]
    }
   ],
   "source": [
    "import math\n",
    "side = float(input(\"Enter the side of the equilateral triangle: \"))\n",
    "area = ((math.sqrt(3))/4)*pow(side,2)\n",
    "print(round(area,3))"
   ]
  },
  {
   "cell_type": "markdown",
   "metadata": {},
   "source": [
    "## 2. Write a program to count the number of each characters in a string"
   ]
  },
  {
   "cell_type": "code",
   "execution_count": 11,
   "metadata": {},
   "outputs": [
    {
     "name": "stdout",
     "output_type": "stream",
     "text": [
      "Enter Your Name :BruceWayne\n",
      "B-1\n",
      "r-1\n",
      "u-1\n",
      "c-1\n",
      "e-2\n",
      "W-1\n",
      "a-1\n",
      "y-1\n",
      "n-1\n"
     ]
    }
   ],
   "source": [
    "string = input(\"Enter Your Name :\")\n",
    "string1 = []\n",
    "for a in string:\n",
    "    if a not in string1:\n",
    "        string1.append(a)\n",
    "for i in string1:\n",
    "    print(i,string.count(i),sep = \"-\")\n"
   ]
  },
  {
   "cell_type": "markdown",
   "metadata": {},
   "source": [
    "## 3. Write a program to find the area and perimeter of a rectangle using functions"
   ]
  },
  {
   "cell_type": "code",
   "execution_count": 15,
   "metadata": {},
   "outputs": [
    {
     "name": "stdout",
     "output_type": "stream",
     "text": [
      "Enter the length of the Rectangle =10\n",
      "Enter the breadth of the Rectangle =20\n",
      "Perimeter= 400\n",
      "Area = 200\n"
     ]
    }
   ],
   "source": [
    "def peri(l,b):\n",
    "    print(\"Perimeter=\",2*(l*b))\n",
    "def area(l,b):\n",
    "    print('Area =',l*b)\n",
    "l=int(input('Enter the length of the Rectangle ='))\n",
    "b=int(input('Enter the breadth of the Rectangle ='))\n",
    "peri(l,b)\n",
    "area(l,b)\n"
   ]
  },
  {
   "cell_type": "markdown",
   "metadata": {},
   "source": [
    "## 4. Write a program to print the fibonacci series till a specified number"
   ]
  },
  {
   "cell_type": "code",
   "execution_count": 18,
   "metadata": {},
   "outputs": [
    {
     "name": "stdout",
     "output_type": "stream",
     "text": [
      "enter the limit10\n",
      "fibonacci series is\n",
      "0\n",
      "1\n",
      "1\n",
      "2\n",
      "3\n",
      "5\n",
      "8\n",
      "13\n",
      "21\n",
      "34\n"
     ]
    }
   ],
   "source": [
    "ch=int(input('enter the limit'))\n",
    "n1=0\n",
    "n2=1\n",
    "sum=0\n",
    "print('fibonacci series is')\n",
    "for i in range(0,ch):\n",
    "    print(sum)\n",
    "    n1=n2\n",
    "    n2=sum\n",
    "    sum=n1+n2"
   ]
  },
  {
   "cell_type": "markdown",
   "metadata": {},
   "source": [
    "## 5. Complete the following code to find the minimum of 3 number using conditional statements. Output should be as displayed"
   ]
  },
  {
   "cell_type": "code",
   "execution_count": 37,
   "metadata": {},
   "outputs": [
    {
     "name": "stdout",
     "output_type": "stream",
     "text": [
      "Enter three numbers followed by  : 9 8 7\n",
      "First number : 9\n",
      "Second number : 8\n",
      "Third number : 7\n",
      "7  is smallest\n"
     ]
    }
   ],
   "source": [
    "a,b,c = input(\"Enter three numbers followed by  : \").split()\n",
    "\n",
    "print(\"First number :\",a)\n",
    "print(\"Second number :\",b)\n",
    "print(\"Third number :\",c)\n",
    "if a==b==c:\n",
    "    print(\"Entered numbers are equal!!!\")\n",
    "elif a<=b and a<=c:\n",
    "    print(a,\" is smallest\")\n",
    "elif b<=a and b<=c:\n",
    "    print(b,\" is smallest\")\n",
    "elif c<=a and c<=b:\n",
    "    print(c,\" is smallest\")"
   ]
  },
  {
   "cell_type": "markdown",
   "metadata": {},
   "source": [
    "## 6. Write a program to print star pyramind. The number of rows should be taken as input from the user"
   ]
  },
  {
   "cell_type": "code",
   "execution_count": 44,
   "metadata": {},
   "outputs": [
    {
     "name": "stdout",
     "output_type": "stream",
     "text": [
      "enter the number of rows: 10\n",
      "           \n",
      "         *  \n",
      "        * *  \n",
      "       * * *  \n",
      "      * * * *  \n",
      "     * * * * *  \n",
      "    * * * * * *  \n",
      "   * * * * * * *  \n",
      "  * * * * * * * *  \n",
      " * * * * * * * * *  \n",
      "* * * * * * * * * *  \n"
     ]
    }
   ],
   "source": [
    "x = int(input('enter the number of rows: '))\n",
    "for i in range(0,x+1):\n",
    "    for j in range(0,x-i):\n",
    "        print(end=\" \")\n",
    "    for j in range(0,i):\n",
    "        print(\"*\",end=\" \")\n",
    "    print(\" \")\n",
    "     "
   ]
  },
  {
   "cell_type": "markdown",
   "metadata": {},
   "source": [
    "## 7. Complete the following code to convert hour into seconds. Output should be as displayed"
   ]
  },
  {
   "cell_type": "code",
   "execution_count": 48,
   "metadata": {},
   "outputs": [
    {
     "name": "stdout",
     "output_type": "stream",
     "text": [
      "Enter Time In Hours : 10\n",
      "10  Hour is equal to 36000  Seconds\n"
     ]
    }
   ],
   "source": [
    "def to_seconds(t):\n",
    "    t=t*60*60\n",
    "    return t\n",
    "time_in_hours = int(input(\"Enter Time In Hours : \"))\n",
    "print(time_in_hours ,\" Hour is equal to\" ,to_seconds(time_in_hours) ,\" Seconds\")"
   ]
  },
  {
   "cell_type": "markdown",
   "metadata": {},
   "source": [
    "## 8. Write a program to print multiplication table as below"
   ]
  },
  {
   "cell_type": "code",
   "execution_count": 1,
   "metadata": {},
   "outputs": [
    {
     "name": "stdout",
     "output_type": "stream",
     "text": [
      "Enter a number to find the multiplication table: 67\n",
      "1 * 67 = 67\n",
      "2 * 67 = 134\n",
      "3 * 67 = 201\n",
      "4 * 67 = 268\n",
      "5 * 67 = 335\n",
      "6 * 67 = 402\n",
      "7 * 67 = 469\n",
      "8 * 67 = 536\n",
      "9 * 67 = 603\n",
      "10 * 67 = 670\n"
     ]
    }
   ],
   "source": [
    "num=int(input(\"Enter a number to find the multiplication table: \"))\n",
    "for i in range(1,11):\n",
    "    print(i,\"*\",num, \"=\" ,i*num)"
   ]
  },
  {
   "cell_type": "markdown",
   "metadata": {},
   "source": [
    "## 9. Write a program to take your 5 favorite food as list and print each as 'I like Biriyani'"
   ]
  },
  {
   "cell_type": "code",
   "execution_count": 3,
   "metadata": {
    "scrolled": true
   },
   "outputs": [
    {
     "name": "stdout",
     "output_type": "stream",
     "text": [
      "Enter your five fovourite food items\n",
      "Chapathy Dosa Nan Idli Biriyani\n",
      "i like  Chapathy\n",
      "i like  Dosa\n",
      "i like  Nan\n",
      "i like  Idli\n",
      "i like  Biriyani\n"
     ]
    }
   ],
   "source": [
    "a,b,c,d,e=input(\"Enter your five fovourite food items\\n\").split()\n",
    "L=[a,b,c,d,e]\n",
    "for i in L:\n",
    "    print('i like ',i)"
   ]
  },
  {
   "cell_type": "code",
   "execution_count": null,
   "metadata": {},
   "outputs": [],
   "source": []
  }
 ],
 "metadata": {
  "kernelspec": {
   "display_name": "Python 3 (ipykernel)",
   "language": "python",
   "name": "python3"
  },
  "language_info": {
   "codemirror_mode": {
    "name": "ipython",
    "version": 3
   },
   "file_extension": ".py",
   "mimetype": "text/x-python",
   "name": "python",
   "nbconvert_exporter": "python",
   "pygments_lexer": "ipython3",
   "version": "3.9.7"
  }
 },
 "nbformat": 4,
 "nbformat_minor": 4
}
